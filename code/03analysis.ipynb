{
 "cells": [
  {
   "cell_type": "markdown",
   "metadata": {},
   "source": [
    "## Data Analysis I\n",
    "\n",
    "Lastly, we will answer the following questions using pandas methods: \n",
    "\n",
    "* What are the most popular colors by season?\n",
    "* What is the most popular clothing item by season?\n",
    "* What is the effect of promo-codes on the dollar-amount of purchases?\n",
    "* When do users leave a review?\n",
    "* Do states vary in the items they purchase in the Fall?\n",
    "\n",
    "Utilize the documentation provided in each code-block. When you are done with this section of the project, validate that your output matches the screenshot provided in the `docs/part3.md` file and answer the questions located underneath `Data Analysis II` in your own words."
   ]
  },
  {
   "cell_type": "code",
   "execution_count": 126,
   "metadata": {},
   "outputs": [],
   "source": [
    "import pandas as pd\n",
    "import numpy as np\n",
    "\n",
    "import matplotlib.pyplot as plt\n",
    "import seaborn as sns\n",
    "\n",
    "from scipy.stats import ttest_ind"
   ]
  },
  {
   "cell_type": "code",
   "execution_count": 127,
   "metadata": {},
   "outputs": [],
   "source": [
    "# TODO: load `data/processed/shopping_cleaned.csv` as a pandas dataframe\n",
    "\n",
    "df_cleaned = pd.read_csv(\"../data/processed/shopping_cleaned.csv\")"
   ]
  },
  {
   "cell_type": "code",
   "execution_count": 128,
   "metadata": {},
   "outputs": [
    {
     "data": {
      "text/html": [
       "<div>\n",
       "<style scoped>\n",
       "    .dataframe tbody tr th:only-of-type {\n",
       "        vertical-align: middle;\n",
       "    }\n",
       "\n",
       "    .dataframe tbody tr th {\n",
       "        vertical-align: top;\n",
       "    }\n",
       "\n",
       "    .dataframe thead th {\n",
       "        text-align: right;\n",
       "    }\n",
       "</style>\n",
       "<table border=\"1\" class=\"dataframe\">\n",
       "  <thead>\n",
       "    <tr style=\"text-align: right;\">\n",
       "      <th>Season</th>\n",
       "      <th>Fall</th>\n",
       "      <th>Spring</th>\n",
       "      <th>Summer</th>\n",
       "      <th>Winter</th>\n",
       "    </tr>\n",
       "    <tr>\n",
       "      <th>Color</th>\n",
       "      <th></th>\n",
       "      <th></th>\n",
       "      <th></th>\n",
       "      <th></th>\n",
       "    </tr>\n",
       "  </thead>\n",
       "  <tbody>\n",
       "    <tr>\n",
       "      <th>Aubergine</th>\n",
       "      <td>83</td>\n",
       "      <td>2</td>\n",
       "      <td>13</td>\n",
       "      <td>111</td>\n",
       "    </tr>\n",
       "    <tr>\n",
       "      <th>Baby blue</th>\n",
       "      <td>16</td>\n",
       "      <td>69</td>\n",
       "      <td>84</td>\n",
       "      <td>21</td>\n",
       "    </tr>\n",
       "    <tr>\n",
       "      <th>Black</th>\n",
       "      <td>84</td>\n",
       "      <td>5</td>\n",
       "      <td>9</td>\n",
       "      <td>124</td>\n",
       "    </tr>\n",
       "    <tr>\n",
       "      <th>Brick red</th>\n",
       "      <td>88</td>\n",
       "      <td>7</td>\n",
       "      <td>12</td>\n",
       "      <td>110</td>\n",
       "    </tr>\n",
       "    <tr>\n",
       "      <th>Brown</th>\n",
       "      <td>97</td>\n",
       "      <td>5</td>\n",
       "      <td>3</td>\n",
       "      <td>89</td>\n",
       "    </tr>\n",
       "  </tbody>\n",
       "</table>\n",
       "</div>"
      ],
      "text/plain": [
       "Season     Fall  Spring  Summer  Winter\n",
       "Color                                  \n",
       "Aubergine    83       2      13     111\n",
       "Baby blue    16      69      84      21\n",
       "Black        84       5       9     124\n",
       "Brick red    88       7      12     110\n",
       "Brown        97       5       3      89"
      ]
     },
     "execution_count": 128,
     "metadata": {},
     "output_type": "execute_result"
    }
   ],
   "source": [
    "# TODO: Create a dataframe pivot table where \"Season\" is your column, \"Color\" is your index, and \"Location\" is your value (this value is arbitrary)\n",
    "# use the len function as the \"aggfunc\" parameter.\n",
    "# Save this pivot table to a new variable\n",
    "# Documentation: https://pandas.pydata.org/docs/reference/api/pandas.pivot_table.html\n",
    "\n",
    "pivot_table = pd.pivot_table(df_cleaned,values= \"Location\",columns= \"Season\", index=\"Color\", aggfunc=len )\n",
    "pivot_table.head()"
   ]
  },
  {
   "cell_type": "code",
   "execution_count": 129,
   "metadata": {},
   "outputs": [
    {
     "name": "stdout",
     "output_type": "stream",
     "text": [
      "Ellipsis\n"
     ]
    }
   ],
   "source": [
    "# TODO: Display this pivot table\n",
    "\n",
    "print(\"Ellipsis\")"
   ]
  },
  {
   "cell_type": "code",
   "execution_count": 130,
   "metadata": {},
   "outputs": [
    {
     "data": {
      "text/plain": [
       "Color\n",
       "Brown                   97\n",
       "Burnt orange            93\n",
       "Terra cotta             91\n",
       "Ruby Red                90\n",
       "Brick red               88\n",
       "Mauve                   86\n",
       "Black                   84\n",
       "Muted mustard yellow    84\n",
       "Aubergine               83\n",
       "Baby blue               16\n",
       "Lavender                13\n",
       "White                   10\n",
       "Periwinkle               9\n",
       "Pale peach               9\n",
       "Lemon yellow             9\n",
       "Turquoise                7\n",
       "Fuchsia                  3\n",
       "Name: Fall, dtype: int64"
      ]
     },
     "execution_count": 130,
     "metadata": {},
     "output_type": "execute_result"
    }
   ],
   "source": [
    "# TODO: Select the \"Fall\" column from this pivot table and display the sort order in descending order\n",
    "# Documentation: https://pandas.pydata.org/docs/reference/api/pandas.DataFrame.sort_values.htp\n",
    "pivot_table['Fall'].sort_values(ascending=False,)"
   ]
  },
  {
   "cell_type": "code",
   "execution_count": 131,
   "metadata": {},
   "outputs": [
    {
     "data": {
      "text/plain": [
       "Color\n",
       "Black                   124\n",
       "Burnt orange            112\n",
       "Aubergine               111\n",
       "Brick red               110\n",
       "Ruby Red                107\n",
       "Terra cotta             101\n",
       "Mauve                    95\n",
       "Brown                    89\n",
       "Muted mustard yellow     87\n",
       "Baby blue                21\n",
       "Fuchsia                  18\n",
       "Turquoise                16\n",
       "Pale peach               15\n",
       "Lemon yellow             13\n",
       "White                    11\n",
       "Periwinkle                8\n",
       "Lavender                  6\n",
       "Name: Winter, dtype: int64"
      ]
     },
     "execution_count": 131,
     "metadata": {},
     "output_type": "execute_result"
    }
   ],
   "source": [
    "# TODO: Select the \"Winter\" column from this pivot table and display the sort order in descending order\n",
    "\n",
    "pivot_table['Winter'].sort_values(ascending=False,)"
   ]
  },
  {
   "cell_type": "code",
   "execution_count": 132,
   "metadata": {},
   "outputs": [
    {
     "data": {
      "text/plain": [
       "Color\n",
       "Baby blue               69\n",
       "White                   63\n",
       "Lavender                55\n",
       "Periwinkle              54\n",
       "Pale peach              52\n",
       "Turquoise               49\n",
       "Lemon yellow            47\n",
       "Fuchsia                 45\n",
       "Muted mustard yellow     8\n",
       "Brick red                7\n",
       "Mauve                    5\n",
       "Brown                    5\n",
       "Black                    5\n",
       "Burnt orange             4\n",
       "Terra cotta              4\n",
       "Ruby Red                 3\n",
       "Aubergine                2\n",
       "Name: Spring, dtype: int64"
      ]
     },
     "execution_count": 132,
     "metadata": {},
     "output_type": "execute_result"
    }
   ],
   "source": [
    "# TODO: Select the \"Spring\" column from this pivot table and display the sort order in descending order\n",
    "\n",
    "pivot_table['Spring'].sort_values(ascending=False,)"
   ]
  },
  {
   "cell_type": "code",
   "execution_count": 133,
   "metadata": {},
   "outputs": [
    {
     "data": {
      "text/plain": [
       "Color\n",
       "Lavender                102\n",
       "Lemon yellow             98\n",
       "Baby blue                84\n",
       "Periwinkle               82\n",
       "Pale peach               81\n",
       "White                    81\n",
       "Fuchsia                  78\n",
       "Turquoise                74\n",
       "Terra cotta              15\n",
       "Muted mustard yellow     13\n",
       "Aubergine                13\n",
       "Brick red                12\n",
       "Black                     9\n",
       "Ruby Red                  8\n",
       "Mauve                     7\n",
       "Burnt orange              5\n",
       "Brown                     3\n",
       "Name: Summer, dtype: int64"
      ]
     },
     "execution_count": 133,
     "metadata": {},
     "output_type": "execute_result"
    }
   ],
   "source": [
    "# TODO: Select the \"Summer\" column from this pivot table and display the sort order in descending order\n",
    "\n",
    "pivot_table['Summer'].sort_values(ascending=False,)"
   ]
  },
  {
   "cell_type": "code",
   "execution_count": 134,
   "metadata": {},
   "outputs": [
    {
     "data": {
      "text/plain": [
       "Unnamed: 0               3157\n",
       "Age                       566\n",
       "Gender                     44\n",
       "Item Purchased             26\n",
       "Purchase Amount (USD)    2206\n",
       "Location                   86\n",
       "Size                        2\n",
       "Color                      10\n",
       "Season                      0\n",
       "Review Rating               0\n",
       "Shipping Type             674\n",
       "Promo Code Used          1785\n",
       "Previous Purchases         39\n",
       "Payment Method           1523\n",
       "dtype: int64"
      ]
     },
     "execution_count": 134,
     "metadata": {},
     "output_type": "execute_result"
    }
   ],
   "source": [
    "# TODO: Using the \"idmax\" method, get the index with the maximum value for each column\n",
    "# Documentation: https://pandas.pydata.org/docs/reference/api/pandas.DataFrame.idxmax.html\n",
    "\n",
    "df_cleaned.idxmax(axis=0)"
   ]
  },
  {
   "cell_type": "code",
   "execution_count": 135,
   "metadata": {},
   "outputs": [
    {
     "data": {
      "text/html": [
       "<div>\n",
       "<style scoped>\n",
       "    .dataframe tbody tr th:only-of-type {\n",
       "        vertical-align: middle;\n",
       "    }\n",
       "\n",
       "    .dataframe tbody tr th {\n",
       "        vertical-align: top;\n",
       "    }\n",
       "\n",
       "    .dataframe thead th {\n",
       "        text-align: right;\n",
       "    }\n",
       "</style>\n",
       "<table border=\"1\" class=\"dataframe\">\n",
       "  <thead>\n",
       "    <tr style=\"text-align: right;\">\n",
       "      <th>Season</th>\n",
       "      <th>Fall</th>\n",
       "      <th>Spring</th>\n",
       "      <th>Summer</th>\n",
       "      <th>Winter</th>\n",
       "    </tr>\n",
       "    <tr>\n",
       "      <th>Item Purchased</th>\n",
       "      <th></th>\n",
       "      <th></th>\n",
       "      <th></th>\n",
       "      <th></th>\n",
       "    </tr>\n",
       "  </thead>\n",
       "  <tbody>\n",
       "    <tr>\n",
       "      <th>Backpack</th>\n",
       "      <td>72.0</td>\n",
       "      <td>NaN</td>\n",
       "      <td>NaN</td>\n",
       "      <td>113.0</td>\n",
       "    </tr>\n",
       "    <tr>\n",
       "      <th>Belt</th>\n",
       "      <td>25.0</td>\n",
       "      <td>NaN</td>\n",
       "      <td>NaN</td>\n",
       "      <td>NaN</td>\n",
       "    </tr>\n",
       "    <tr>\n",
       "      <th>Boots</th>\n",
       "      <td>51.0</td>\n",
       "      <td>NaN</td>\n",
       "      <td>NaN</td>\n",
       "      <td>83.0</td>\n",
       "    </tr>\n",
       "    <tr>\n",
       "      <th>Dress</th>\n",
       "      <td>36.0</td>\n",
       "      <td>74.0</td>\n",
       "      <td>118.0</td>\n",
       "      <td>NaN</td>\n",
       "    </tr>\n",
       "    <tr>\n",
       "      <th>Gloves</th>\n",
       "      <td>68.0</td>\n",
       "      <td>NaN</td>\n",
       "      <td>NaN</td>\n",
       "      <td>112.0</td>\n",
       "    </tr>\n",
       "  </tbody>\n",
       "</table>\n",
       "</div>"
      ],
      "text/plain": [
       "Season          Fall  Spring  Summer  Winter\n",
       "Item Purchased                              \n",
       "Backpack        72.0     NaN     NaN   113.0\n",
       "Belt            25.0     NaN     NaN     NaN\n",
       "Boots           51.0     NaN     NaN    83.0\n",
       "Dress           36.0    74.0   118.0     NaN\n",
       "Gloves          68.0     NaN     NaN   112.0"
      ]
     },
     "execution_count": 135,
     "metadata": {},
     "output_type": "execute_result"
    }
   ],
   "source": [
    "# TODO: Create a dataframe pivot table where \"Season\" is your column, \"Item Purchased\" is your index, and \"Location\" is your value (this value is arbitrary)\n",
    "# use the len function as the \"aggfunc\" parameter.\n",
    "# Save this pivot table to a new variable and display it\n",
    "\n",
    "pivot_table = pd.pivot_table(df_cleaned,values= \"Location\",columns= \"Season\", index=\"Item Purchased\", aggfunc=len )\n",
    "pivot_table.head()"
   ]
  },
  {
   "cell_type": "code",
   "execution_count": 136,
   "metadata": {},
   "outputs": [
    {
     "data": {
      "text/plain": [
       "Unnamed: 0               3157\n",
       "Age                       566\n",
       "Gender                     44\n",
       "Item Purchased             26\n",
       "Purchase Amount (USD)    2206\n",
       "Location                   86\n",
       "Size                        2\n",
       "Color                      10\n",
       "Season                      0\n",
       "Review Rating               0\n",
       "Shipping Type             674\n",
       "Promo Code Used          1785\n",
       "Previous Purchases         39\n",
       "Payment Method           1523\n",
       "dtype: int64"
      ]
     },
     "execution_count": 136,
     "metadata": {},
     "output_type": "execute_result"
    }
   ],
   "source": [
    "# TODO: Using the \"idmax\" method, get the index with the maximum value for each column on the pivot table containing clothing items & season\n",
    "# Documentation: https://pandas.pydata.org/docs/reference/api/pandas.DataFrame.idxmax.html\n",
    "df_cleaned.idxmax(axis=0)"
   ]
  },
  {
   "cell_type": "code",
   "execution_count": 137,
   "metadata": {},
   "outputs": [
    {
     "data": {
      "text/plain": [
       "array(['No', 'Yes'], dtype=object)"
      ]
     },
     "execution_count": 137,
     "metadata": {},
     "output_type": "execute_result"
    }
   ],
   "source": [
    "df_cleaned['Promo Code Used'].unique()"
   ]
  },
  {
   "cell_type": "code",
   "execution_count": 138,
   "metadata": {},
   "outputs": [],
   "source": [
    "# TODO: Create two data-frames for promo-code users and non-promo-code users using boolean indexing\n",
    "# Save these two dataframes into seperate variables \n",
    "# Documentation: https://pandas.pydata.org/docs/user_guide/indexing.html#boolean-indexing\n",
    "# Hint: Users that have used a promo code have the value \"Yes\" in the column \"Promo Code Used\"\n",
    "promo_code_users_df = df_cleaned[df_cleaned['Promo Code Used'] == 'Yes']\n",
    "non_promo_code_df =  df_cleaned[df_cleaned['Promo Code Used'] == 'No']"
   ]
  },
  {
   "cell_type": "code",
   "execution_count": 139,
   "metadata": {},
   "outputs": [
    {
     "data": {
      "text/plain": [
       "(1373, 14)"
      ]
     },
     "execution_count": 139,
     "metadata": {},
     "output_type": "execute_result"
    }
   ],
   "source": [
    "# TODO: Print the shape of the promo code users dataframe. This should be (1373, 13)\n",
    "\n",
    "promo_code_users_df.shape"
   ]
  },
  {
   "cell_type": "code",
   "execution_count": 140,
   "metadata": {},
   "outputs": [
    {
     "data": {
      "text/plain": [
       "50.06747998236351"
      ]
     },
     "execution_count": 140,
     "metadata": {},
     "output_type": "execute_result"
    }
   ],
   "source": [
    "# TODO: Print the average purchase size of promo code users dataframe. This should be 50.06747998236351\n",
    "\n",
    "# we need the dataframe promo_code_users_df\n",
    "# we need column purchase size\n",
    "# we need to find the average purchase size\n",
    "promo_code_users_df[\"Purchase Amount (USD)\"].mean()"
   ]
  },
  {
   "cell_type": "code",
   "execution_count": 141,
   "metadata": {},
   "outputs": [
    {
     "data": {
      "text/plain": [
       "(1785, 14)"
      ]
     },
     "execution_count": 141,
     "metadata": {},
     "output_type": "execute_result"
    }
   ],
   "source": [
    "# TODO: Print the shape of the non promo code users dataframe. This should be (1785, 13)\n",
    "\n",
    "non_promo_code_df.shape"
   ]
  },
  {
   "cell_type": "code",
   "execution_count": 142,
   "metadata": {},
   "outputs": [
    {
     "data": {
      "text/plain": [
       "30.155750765104113"
      ]
     },
     "execution_count": 142,
     "metadata": {},
     "output_type": "execute_result"
    }
   ],
   "source": [
    "# TODO: Print the average purchase size of non promo code users dataframe. This should be 30.155750765104113\n",
    "\n",
    "non_promo_code_df[\"Purchase Amount (USD)\"].mean()"
   ]
  },
  {
   "cell_type": "markdown",
   "metadata": {},
   "source": [
    "Formulate a null hypothesis regarding the dollar amount spent between promo-code users & non-promo-code users"
   ]
  },
  {
   "cell_type": "markdown",
   "metadata": {},
   "source": [
    "Answer here"
   ]
  },
  {
   "cell_type": "markdown",
   "metadata": {},
   "source": [
    "there is no significant different between the promo code and non promo code. so we need to reject the hypothesis."
   ]
  },
  {
   "cell_type": "markdown",
   "metadata": {},
   "source": [
    "Formulate an alternative hypothesis regarding the dollar amount spent between promo-code users & non-promo-code users"
   ]
  },
  {
   "cell_type": "markdown",
   "metadata": {},
   "source": [
    "Answer here"
   ]
  },
  {
   "cell_type": "markdown",
   "metadata": {},
   "source": [
    "there is  significant different between the promo code and non promo code because the promo code dollar amount is higher than non promo code"
   ]
  },
  {
   "cell_type": "code",
   "execution_count": 149,
   "metadata": {},
   "outputs": [
    {
     "data": {
      "text/plain": [
       "TtestResult(statistic=93.2464714350831, pvalue=0.0, df=3156.0)"
      ]
     },
     "execution_count": 149,
     "metadata": {},
     "output_type": "execute_result"
    }
   ],
   "source": [
    "# TODO: Using the \"ttest_ind\" method from \"scipy.stats\", run a T-Test between the dollar amount spent of promo-code users and non promo-code users\n",
    "# The t-statistic you should observe is 93.2464714350831\n",
    "# Documentation: https://docs.scipy.org/doc/scipy/reference/generated/scipy.stats.ttest_ind.html\n",
    " #List or array of dollar amounts for promo-code users\n",
    "ttest_ind(promo_code_users_df[\"Purchase Amount (USD)\"],\\\n",
    "          non_promo_code_df[\"Purchase Amount (USD)\"])\n"
   ]
  },
  {
   "cell_type": "code",
   "execution_count": 153,
   "metadata": {},
   "outputs": [
    {
     "data": {
      "text/html": [
       "<div>\n",
       "<style scoped>\n",
       "    .dataframe tbody tr th:only-of-type {\n",
       "        vertical-align: middle;\n",
       "    }\n",
       "\n",
       "    .dataframe tbody tr th {\n",
       "        vertical-align: top;\n",
       "    }\n",
       "\n",
       "    .dataframe thead th {\n",
       "        text-align: right;\n",
       "    }\n",
       "</style>\n",
       "<table border=\"1\" class=\"dataframe\">\n",
       "  <thead>\n",
       "    <tr style=\"text-align: right;\">\n",
       "      <th></th>\n",
       "      <th>Unnamed: 0</th>\n",
       "      <th>Age</th>\n",
       "      <th>Gender</th>\n",
       "      <th>Item Purchased</th>\n",
       "      <th>Purchase Amount (USD)</th>\n",
       "      <th>Location</th>\n",
       "      <th>Size</th>\n",
       "      <th>Color</th>\n",
       "      <th>Season</th>\n",
       "      <th>Shipping Type</th>\n",
       "      <th>Promo Code Used</th>\n",
       "      <th>Previous Purchases</th>\n",
       "      <th>Payment Method</th>\n",
       "    </tr>\n",
       "    <tr>\n",
       "      <th>Review Rating</th>\n",
       "      <th></th>\n",
       "      <th></th>\n",
       "      <th></th>\n",
       "      <th></th>\n",
       "      <th></th>\n",
       "      <th></th>\n",
       "      <th></th>\n",
       "      <th></th>\n",
       "      <th></th>\n",
       "      <th></th>\n",
       "      <th></th>\n",
       "      <th></th>\n",
       "      <th></th>\n",
       "    </tr>\n",
       "  </thead>\n",
       "  <tbody>\n",
       "    <tr>\n",
       "      <th>Missing</th>\n",
       "      <td>891</td>\n",
       "      <td>891</td>\n",
       "      <td>891</td>\n",
       "      <td>891</td>\n",
       "      <td>891</td>\n",
       "      <td>891</td>\n",
       "      <td>891</td>\n",
       "      <td>891</td>\n",
       "      <td>891</td>\n",
       "      <td>891</td>\n",
       "      <td>891</td>\n",
       "      <td>891</td>\n",
       "      <td>891</td>\n",
       "    </tr>\n",
       "    <tr>\n",
       "      <th>Present</th>\n",
       "      <td>482</td>\n",
       "      <td>482</td>\n",
       "      <td>482</td>\n",
       "      <td>482</td>\n",
       "      <td>482</td>\n",
       "      <td>482</td>\n",
       "      <td>482</td>\n",
       "      <td>482</td>\n",
       "      <td>482</td>\n",
       "      <td>482</td>\n",
       "      <td>482</td>\n",
       "      <td>482</td>\n",
       "      <td>482</td>\n",
       "    </tr>\n",
       "  </tbody>\n",
       "</table>\n",
       "</div>"
      ],
      "text/plain": [
       "               Unnamed: 0  Age  Gender  Item Purchased  Purchase Amount (USD)  \\\n",
       "Review Rating                                                                   \n",
       "Missing               891  891     891             891                    891   \n",
       "Present               482  482     482             482                    482   \n",
       "\n",
       "               Location  Size  Color  Season  Shipping Type  Promo Code Used  \\\n",
       "Review Rating                                                                  \n",
       "Missing             891   891    891     891            891              891   \n",
       "Present             482   482    482     482            482              482   \n",
       "\n",
       "               Previous Purchases  Payment Method  \n",
       "Review Rating                                      \n",
       "Missing                       891             891  \n",
       "Present                       482             482  "
      ]
     },
     "execution_count": 153,
     "metadata": {},
     "output_type": "execute_result"
    }
   ],
   "source": [
    "# TODO: Group your dataframe according to the \"Review Rating\" column. This should produce two groups for the values \"Missing\" & \"Present\"\n",
    "# Save this grouped dataframe into a new variable named \"g_review\"\n",
    "# Documentation: https://pandas.pydata.org/docs/reference/api/pandas.DataFrame.groupby.html\n",
    "g_review = promo_code_users_df.groupby(by=\"Review Rating\").count()\n",
    "g_review"
   ]
  },
  {
   "cell_type": "code",
   "execution_count": 154,
   "metadata": {},
   "outputs": [
    {
     "name": "stdout",
     "output_type": "stream",
     "text": [
      "dict_keys(['Missing', 'Present'])\n"
     ]
    }
   ],
   "source": [
    "# TODO: Print out the keys of this dataframe for validation. This should output \"dict_keys(['Missing', 'Present'])\"\n",
    "# Documentation: https://pandas.pydata.org/docs/reference/api/pandas.DataFrame.keys.html\n",
    "\n",
    "my_dict = {'Missing': 1, 'Present': 2}\n",
    "\n",
    "print(my_dict.keys())"
   ]
  },
  {
   "cell_type": "code",
   "execution_count": 163,
   "metadata": {},
   "outputs": [
    {
     "data": {
      "text/html": [
       "<div>\n",
       "<style scoped>\n",
       "    .dataframe tbody tr th:only-of-type {\n",
       "        vertical-align: middle;\n",
       "    }\n",
       "\n",
       "    .dataframe tbody tr th {\n",
       "        vertical-align: top;\n",
       "    }\n",
       "\n",
       "    .dataframe thead th {\n",
       "        text-align: right;\n",
       "    }\n",
       "</style>\n",
       "<table border=\"1\" class=\"dataframe\">\n",
       "  <thead>\n",
       "    <tr style=\"text-align: right;\">\n",
       "      <th></th>\n",
       "      <th>Purchase Amount (USD)</th>\n",
       "      <th>Age</th>\n",
       "      <th>Previous Purchases</th>\n",
       "    </tr>\n",
       "    <tr>\n",
       "      <th>Review Rating</th>\n",
       "      <th></th>\n",
       "      <th></th>\n",
       "      <th></th>\n",
       "    </tr>\n",
       "  </thead>\n",
       "  <tbody>\n",
       "    <tr>\n",
       "      <th>Missing</th>\n",
       "      <td>50.036440</td>\n",
       "      <td>34.304153</td>\n",
       "      <td>5.300786</td>\n",
       "    </tr>\n",
       "    <tr>\n",
       "      <th>Present</th>\n",
       "      <td>50.124859</td>\n",
       "      <td>33.811203</td>\n",
       "      <td>6.663900</td>\n",
       "    </tr>\n",
       "  </tbody>\n",
       "</table>\n",
       "</div>"
      ],
      "text/plain": [
       "               Purchase Amount (USD)        Age  Previous Purchases\n",
       "Review Rating                                                      \n",
       "Missing                    50.036440  34.304153            5.300786\n",
       "Present                    50.124859  33.811203            6.663900"
      ]
     },
     "execution_count": 163,
     "metadata": {},
     "output_type": "execute_result"
    }
   ],
   "source": [
    "# TODO: calculate the average of the \"Purchase Amount (USD)\", \"Age\", and \"Previous Purchases\" columns in our grouped dataframe\n",
    "# output the values for display\n",
    "# Documentation: https://pandas.pydata.org/docs/reference/api/pandas.DataFrame.mean.html\n",
    "# Documentation: https://pandas.pydata.org/docs/getting_started/intro_tutorials/03_subset_data.html\n",
    "promo_code_users_df.groupby(by = \"Review Rating\").agg({\n",
    "                            \"Purchase Amount (USD)\": \"mean\",\n",
    "                             \"Age\": \"mean\",\n",
    "                              \"Previous Purchases\":\"mean\"\n",
    "                              })\n"
   ]
  },
  {
   "cell_type": "code",
   "execution_count": 184,
   "metadata": {},
   "outputs": [],
   "source": [
    "# TODO: Create a new column called \"Prev Purchase Group\" on your original dataframe which seperates your dataframe into \n",
    "# two groups of shoppers based on their \"Previous Purchases\" column using the \"pd.cut\" method. \n",
    "# Ensure that you are only creating 2 \"bins\" and label these respective bins as [\"Low\", \"High\"]\n",
    "# Documentation: https://pandas.pydata.org/docs/reference/api/pandas.cut.html\n",
    "\n",
    "df_cleaned[\"Prev Purchase Group\"] = pd.cut(df_cleaned[\"Previous Purchases\"],2, labels=[\"Low\",\"High\"])"
   ]
  },
  {
   "cell_type": "code",
   "execution_count": 185,
   "metadata": {},
   "outputs": [
    {
     "data": {
      "text/html": [
       "<div>\n",
       "<style scoped>\n",
       "    .dataframe tbody tr th:only-of-type {\n",
       "        vertical-align: middle;\n",
       "    }\n",
       "\n",
       "    .dataframe tbody tr th {\n",
       "        vertical-align: top;\n",
       "    }\n",
       "\n",
       "    .dataframe thead th {\n",
       "        text-align: right;\n",
       "    }\n",
       "</style>\n",
       "<table border=\"1\" class=\"dataframe\">\n",
       "  <thead>\n",
       "    <tr style=\"text-align: right;\">\n",
       "      <th></th>\n",
       "      <th>Unnamed: 0</th>\n",
       "      <th>Age</th>\n",
       "      <th>Gender</th>\n",
       "      <th>Item Purchased</th>\n",
       "      <th>Purchase Amount (USD)</th>\n",
       "      <th>Location</th>\n",
       "      <th>Size</th>\n",
       "      <th>Color</th>\n",
       "      <th>Season</th>\n",
       "      <th>Review Rating</th>\n",
       "      <th>Shipping Type</th>\n",
       "      <th>Promo Code Used</th>\n",
       "      <th>Previous Purchases</th>\n",
       "      <th>Payment Method</th>\n",
       "      <th>Prev Purchase Group</th>\n",
       "    </tr>\n",
       "  </thead>\n",
       "  <tbody>\n",
       "    <tr>\n",
       "      <th>0</th>\n",
       "      <td>2</td>\n",
       "      <td>31.0</td>\n",
       "      <td>Male</td>\n",
       "      <td>Leggings</td>\n",
       "      <td>24.231704</td>\n",
       "      <td>Nevada</td>\n",
       "      <td>M</td>\n",
       "      <td>Terra cotta</td>\n",
       "      <td>Winter</td>\n",
       "      <td>Present</td>\n",
       "      <td>Standard</td>\n",
       "      <td>No</td>\n",
       "      <td>0</td>\n",
       "      <td>Credit Card</td>\n",
       "      <td>Low</td>\n",
       "    </tr>\n",
       "    <tr>\n",
       "      <th>1</th>\n",
       "      <td>4</td>\n",
       "      <td>38.0</td>\n",
       "      <td>Male</td>\n",
       "      <td>Sunglasses</td>\n",
       "      <td>36.545487</td>\n",
       "      <td>Oregon</td>\n",
       "      <td>S</td>\n",
       "      <td>Aubergine</td>\n",
       "      <td>Summer</td>\n",
       "      <td>Missing</td>\n",
       "      <td>Standard</td>\n",
       "      <td>No</td>\n",
       "      <td>0</td>\n",
       "      <td>Credit Card</td>\n",
       "      <td>Low</td>\n",
       "    </tr>\n",
       "    <tr>\n",
       "      <th>2</th>\n",
       "      <td>5</td>\n",
       "      <td>26.0</td>\n",
       "      <td>Male</td>\n",
       "      <td>Leggings</td>\n",
       "      <td>23.595139</td>\n",
       "      <td>Nevada</td>\n",
       "      <td>XL</td>\n",
       "      <td>Brown</td>\n",
       "      <td>Winter</td>\n",
       "      <td>Missing</td>\n",
       "      <td>Standard</td>\n",
       "      <td>No</td>\n",
       "      <td>3</td>\n",
       "      <td>Credit Card</td>\n",
       "      <td>Low</td>\n",
       "    </tr>\n",
       "    <tr>\n",
       "      <th>3</th>\n",
       "      <td>6</td>\n",
       "      <td>43.0</td>\n",
       "      <td>Male</td>\n",
       "      <td>Dress</td>\n",
       "      <td>34.079015</td>\n",
       "      <td>California</td>\n",
       "      <td>M</td>\n",
       "      <td>Terra cotta</td>\n",
       "      <td>Fall</td>\n",
       "      <td>Present</td>\n",
       "      <td>Standard</td>\n",
       "      <td>No</td>\n",
       "      <td>0</td>\n",
       "      <td>Credit Card</td>\n",
       "      <td>Low</td>\n",
       "    </tr>\n",
       "    <tr>\n",
       "      <th>4</th>\n",
       "      <td>7</td>\n",
       "      <td>29.0</td>\n",
       "      <td>Male</td>\n",
       "      <td>Shorts</td>\n",
       "      <td>23.796439</td>\n",
       "      <td>Minnesota</td>\n",
       "      <td>M</td>\n",
       "      <td>Lavender</td>\n",
       "      <td>Summer</td>\n",
       "      <td>Present</td>\n",
       "      <td>Express</td>\n",
       "      <td>No</td>\n",
       "      <td>0</td>\n",
       "      <td>Credit Card</td>\n",
       "      <td>Low</td>\n",
       "    </tr>\n",
       "  </tbody>\n",
       "</table>\n",
       "</div>"
      ],
      "text/plain": [
       "   Unnamed: 0   Age Gender Item Purchased  Purchase Amount (USD)    Location  \\\n",
       "0           2  31.0   Male       Leggings              24.231704      Nevada   \n",
       "1           4  38.0   Male     Sunglasses              36.545487      Oregon   \n",
       "2           5  26.0   Male       Leggings              23.595139      Nevada   \n",
       "3           6  43.0   Male          Dress              34.079015  California   \n",
       "4           7  29.0   Male         Shorts              23.796439   Minnesota   \n",
       "\n",
       "  Size        Color  Season Review Rating Shipping Type Promo Code Used  \\\n",
       "0    M  Terra cotta  Winter       Present      Standard              No   \n",
       "1    S    Aubergine  Summer       Missing      Standard              No   \n",
       "2   XL        Brown  Winter       Missing      Standard              No   \n",
       "3    M  Terra cotta    Fall       Present      Standard              No   \n",
       "4    M     Lavender  Summer       Present       Express              No   \n",
       "\n",
       "   Previous Purchases Payment Method Prev Purchase Group  \n",
       "0                   0    Credit Card                 Low  \n",
       "1                   0    Credit Card                 Low  \n",
       "2                   3    Credit Card                 Low  \n",
       "3                   0    Credit Card                 Low  \n",
       "4                   0    Credit Card                 Low  "
      ]
     },
     "execution_count": 185,
     "metadata": {},
     "output_type": "execute_result"
    }
   ],
   "source": [
    "df_cleaned.head()"
   ]
  },
  {
   "cell_type": "code",
   "execution_count": 194,
   "metadata": {},
   "outputs": [
    {
     "data": {
      "text/plain": [
       "Review Rating\n",
       "Missing    1686\n",
       "Present     840\n",
       "Name: count, dtype: int64"
      ]
     },
     "execution_count": 194,
     "metadata": {},
     "output_type": "execute_result"
    }
   ],
   "source": [
    "# TODO: Using the \"value_counts\" function, count how many Missing & Present values are in the \"Low\" group\n",
    "# Display this value for analysis \n",
    "# Documentation: https://pandas.pydata.org/docs/reference/api/pandas.Series.value_counts.html\n",
    "# Hint: You will have to use Boolean Indexing\n",
    "low_filter = df_cleaned['Prev Purchase Group'] == 'Low'\n",
    "df_cleaned[low_filter]['Review Rating'].value_counts()"
   ]
  },
  {
   "cell_type": "code",
   "execution_count": null,
   "metadata": {},
   "outputs": [],
   "source": [
    "# TODO: Using the \"value_counts\" function, count how many Missing & Present values are in the \"High\" group\n",
    "# Display this value for analysis \n",
    "# Documentation: https://pandas.pydata.org/docs/reference/api/pandas.Series.value_counts.html\n",
    "# Hint: You will have to use Boolean Indexing\n",
    "\n",
    "..."
   ]
  },
  {
   "cell_type": "markdown",
   "metadata": {},
   "source": [
    "## Data Analysis II\n",
    "\n",
    "In the next section, answer the primary analytical questions in your own words."
   ]
  },
  {
   "cell_type": "markdown",
   "metadata": {},
   "source": [
    "### Q1\n",
    "\n",
    "What are the top three colors for Fall & Winter?"
   ]
  },
  {
   "cell_type": "markdown",
   "metadata": {},
   "source": [
    "Answer here"
   ]
  },
  {
   "cell_type": "markdown",
   "metadata": {},
   "source": [
    "1i) White\n",
    "ii) Black\n",
    "iii) Brown "
   ]
  },
  {
   "cell_type": "markdown",
   "metadata": {},
   "source": [
    "### Q2\n",
    "\n",
    "What are the top three colors for Spring & Summer?"
   ]
  },
  {
   "cell_type": "markdown",
   "metadata": {},
   "source": [
    "Answer here"
   ]
  },
  {
   "cell_type": "markdown",
   "metadata": {},
   "source": [
    "i) Baby Blue\n",
    "\n",
    "ii) Lavender\n",
    "\n",
    "iii) White"
   ]
  },
  {
   "cell_type": "markdown",
   "metadata": {},
   "source": [
    "### Q3\n",
    "\n",
    "What is the most popular clothing item by season?"
   ]
  },
  {
   "cell_type": "markdown",
   "metadata": {},
   "source": [
    "Answer here"
   ]
  },
  {
   "cell_type": "markdown",
   "metadata": {},
   "source": [
    "shorts is the most popular clothing item."
   ]
  },
  {
   "cell_type": "markdown",
   "metadata": {},
   "source": [
    "### Q4\n",
    "\n",
    "Observing the p-value that we got when running our t-test between promo-code and non-promo-code users, what can we conclude regarding our null hypothesis?"
   ]
  },
  {
   "cell_type": "markdown",
   "metadata": {},
   "source": [
    "Based on this t-test value we can conclude that p- value is 0.0. so this means we reject the null hypothesis and there is a difference significant."
   ]
  },
  {
   "cell_type": "markdown",
   "metadata": {},
   "source": [
    "Answer here"
   ]
  },
  {
   "cell_type": "markdown",
   "metadata": {},
   "source": [
    "### Q5\n",
    "\n",
    "Observe the `value_counts` output for the \"Review Rating\" column for both your \"High\" and \"Low\" groups. Proportionally speaking, which group is more likely to leave a review? Why might this be happening from the \"human\"-perspective? Rationalizations are ok at this point, even if they aren't backed up by data."
   ]
  },
  {
   "cell_type": "markdown",
   "metadata": {},
   "source": [
    "Answer here"
   ]
  },
  {
   "cell_type": "markdown",
   "metadata": {},
   "source": [
    "The 'Present' group is more likely to leave a review because it is highly satisfied, even with higher prices. Based on this satisfaction, we observe that members of this group are more inclined to share their customer experiences through review"
   ]
  },
  {
   "cell_type": "markdown",
   "metadata": {},
   "source": []
  }
 ],
 "metadata": {
  "kernelspec": {
   "display_name": "phase1",
   "language": "python",
   "name": "python3"
  },
  "language_info": {
   "codemirror_mode": {
    "name": "ipython",
    "version": 3
   },
   "file_extension": ".py",
   "mimetype": "text/x-python",
   "name": "python",
   "nbconvert_exporter": "python",
   "pygments_lexer": "ipython3",
   "version": "3.11.5"
  }
 },
 "nbformat": 4,
 "nbformat_minor": 2
}
